{
 "cells": [
  {
   "cell_type": "code",
   "execution_count": null,
   "metadata": {
    "vscode": {
     "languageId": "plaintext"
    }
   },
   "outputs": [],
   "source": [
    "import numpy as np\n",
    "from ffnn import FFNN, Layer, relu, uniform_init, Trainer, mse, d_mse\n",
    "\n",
    "# Example usage in Jupyter Notebook\n",
    "X = np.array([[0.1, 0.2, 0.3], [0.4, 0.5, 0.6]])\n",
    "y = np.array([[1, 0], [0, 1]])\n",
    "\n",
    "layer1 = Layer(3, 5, relu, lambda shape: uniform_init(shape, -0.5, 0.5))\n",
    "layer2 = Layer(5, 2, relu, lambda shape: uniform_init(shape, -0.5, 0.5))\n",
    "\n",
    "model = FFNN([layer1, layer2])\n",
    "trainer = Trainer(model, mse, d_mse, lr=0.01)\n",
    "trainer.train(X, y, epochs=10)"
   ]
  }
 ],
 "metadata": {
  "language_info": {
   "name": "python"
  }
 },
 "nbformat": 4,
 "nbformat_minor": 2
}
