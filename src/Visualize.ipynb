{
 "cells": [
  {
   "cell_type": "markdown",
   "metadata": {},
   "source": [
    "# Visualisasi Arsitektur"
   ]
  },
  {
   "cell_type": "markdown",
   "metadata": {},
   "source": [
    "Visualisasi network menggunakan layer yang kecil karena keterbatasan perangkat komputasi\n",
    "\n",
    "*) Note: geser atau pindahkan node jika terlalu _crowded_ dan bobot pada _edge_ terhalangi"
   ]
  },
  {
   "cell_type": "code",
   "execution_count": 1,
   "metadata": {},
   "outputs": [
    {
     "data": {
      "text/html": [
       "\n",
       "        <iframe\n",
       "            width=\"100%\"\n",
       "            height=\"650\"\n",
       "            src=\"http://127.0.0.1:8050/\"\n",
       "            frameborder=\"0\"\n",
       "            allowfullscreen\n",
       "            \n",
       "        ></iframe>\n",
       "        "
      ],
      "text/plain": [
       "<IPython.lib.display.IFrame at 0x1dba93d7f50>"
      ]
     },
     "metadata": {},
     "output_type": "display_data"
    }
   ],
   "source": [
    "from sklearn.model_selection import train_test_split\n",
    "from sklearn.preprocessing import StandardScaler\n",
    "from FFNN.Model import FFNN\n",
    "import numpy as np\n",
    "\n",
    "# Generate random dataset\n",
    "num_samples = 10000\n",
    "num_features = 10\n",
    "num_classes = 2\n",
    "\n",
    "X = np.random.randn(num_samples, num_features)\n",
    "y = np.random.randint(0, num_classes, size=(num_samples,))\n",
    "\n",
    "X_train_viz, X_test_viz, y_train_viz, y_test_viz = train_test_split(\n",
    "    X, y, test_size=0.2, random_state=42\n",
    ")\n",
    "\n",
    "scaler = StandardScaler()\n",
    "X_train_viz = scaler.fit_transform(X_train_viz)\n",
    "X_test_viz = scaler.transform(X_test_viz)\n",
    "\n",
    "model = FFNN(\n",
    "        layers=[10, 5, 5, 2],\n",
    "        activations=[\"relu\", \"relu\", \"softmax\"],\n",
    "        loss=\"categorical_cross_entropy\",\n",
    "        init_method=\"he\",\n",
    "        seed=42\n",
    "    )\n",
    "\n",
    "training_loss, validation_loss = model.train(\n",
    "    X_train=X_train_viz, \n",
    "    y_train=y_train_viz, \n",
    "    X_test=X_test_viz, \n",
    "    y_test=y_test_viz, \n",
    "    epochs=10, \n",
    "    lr=0.01, \n",
    "    batch_size=32, \n",
    "    verbose=0\n",
    ")\n",
    "\n",
    "model.visualize_network()"
   ]
  }
 ],
 "metadata": {
  "kernelspec": {
   "display_name": "Python 3",
   "language": "python",
   "name": "python3"
  },
  "language_info": {
   "codemirror_mode": {
    "name": "ipython",
    "version": 3
   },
   "file_extension": ".py",
   "mimetype": "text/x-python",
   "name": "python",
   "nbconvert_exporter": "python",
   "pygments_lexer": "ipython3",
   "version": "3.12.0"
  }
 },
 "nbformat": 4,
 "nbformat_minor": 2
}
